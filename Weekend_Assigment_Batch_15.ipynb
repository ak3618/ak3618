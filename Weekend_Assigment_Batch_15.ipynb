{
 "cells": [
  {
   "cell_type": "code",
   "execution_count": 1,
   "metadata": {},
   "outputs": [],
   "source": [
    "#Activity1"
   ]
  },
  {
   "cell_type": "code",
   "execution_count": 18,
   "metadata": {},
   "outputs": [],
   "source": [
    "class Restaurant:\n",
    "    \"\"\" Creating a method for a restaurant\"\"\"\n",
    "    def __init__(self,restaurant_name,cuisine_type):\n",
    "        self.restaurant_name=restaurant_name\n",
    "        self.cuisine_type=cuisine_type\n",
    "    def describe_restaurant(self):\n",
    "        \"\"\" Describe about the restaurant\"\"\"\n",
    "        print(f\"{self.restaurant_name} is good restaurant,We are providing {self.cuisine_type} food\")\n",
    "    def open_restaurant(self):\n",
    "        print(f\"{self.restaurant_name} is now open\")"
   ]
  },
  {
   "cell_type": "code",
   "execution_count": 37,
   "metadata": {},
   "outputs": [],
   "source": [
    "xobj=Restaurant('The Taj','Contenantal')"
   ]
  },
  {
   "cell_type": "code",
   "execution_count": 27,
   "metadata": {},
   "outputs": [
    {
     "name": "stdout",
     "output_type": "stream",
     "text": [
      "The Taj is good restaurant,We are providing Contenantal food\n"
     ]
    }
   ],
   "source": [
    "xobj.describe_restaurant()"
   ]
  },
  {
   "cell_type": "code",
   "execution_count": 24,
   "metadata": {},
   "outputs": [
    {
     "name": "stdout",
     "output_type": "stream",
     "text": [
      "The Taj is now open\n"
     ]
    }
   ],
   "source": [
    "xobj.open_restaurant()"
   ]
  },
  {
   "cell_type": "code",
   "execution_count": null,
   "metadata": {},
   "outputs": [],
   "source": [
    "#Activity2"
   ]
  },
  {
   "cell_type": "code",
   "execution_count": 71,
   "metadata": {},
   "outputs": [],
   "source": [
    "class IceCreamStand(Restaurant):\n",
    "    \"\"\"An ice cream stand is a specific kind of restaurant.\"\"\"\n",
    "\n",
    "    def __init__(self, name, cuisine_type):\n",
    "        \"\"\"Describe about an ice cream stand.\"\"\"\n",
    "        self.name=name\n",
    "        self.cuisine_type=cuisine_type\n",
    "        print(f\"{self.name} is a specific kind of restaurant,We are providing {self.cuisine_type} ice_cream\")\n",
    "        \n",
    "    def diffrent_flavors(self):\n",
    "        \"\"\"Shows of ice cream flavors.\"\"\"\n",
    "        diffrent_flavors= [\"vanilla\", 'chocolate', 'black cherry']\n",
    "        print(f\"We have the following flavors available\")\n",
    "        print(diffrent_flavors)"
   ]
  },
  {
   "cell_type": "code",
   "execution_count": 72,
   "metadata": {},
   "outputs": [
    {
     "name": "stdout",
     "output_type": "stream",
     "text": [
      "IceCream parlovor is a specific kind of restaurant,We are providing diffrent flavors ice_cream\n"
     ]
    }
   ],
   "source": [
    "xobj=IceCreamStand('IceCream parlovor','diffrent flavors')"
   ]
  },
  {
   "cell_type": "code",
   "execution_count": 73,
   "metadata": {},
   "outputs": [
    {
     "name": "stdout",
     "output_type": "stream",
     "text": [
      "We have the following flavors available\n",
      "['vanilla', 'chocolate', 'black cherry']\n"
     ]
    }
   ],
   "source": [
    "xobj.diffrent_flavors()"
   ]
  },
  {
   "cell_type": "code",
   "execution_count": null,
   "metadata": {},
   "outputs": [],
   "source": []
  },
  {
   "cell_type": "code",
   "execution_count": null,
   "metadata": {},
   "outputs": [],
   "source": []
  },
  {
   "cell_type": "code",
   "execution_count": null,
   "metadata": {},
   "outputs": [],
   "source": []
  }
 ],
 "metadata": {
  "kernelspec": {
   "display_name": "Python 3",
   "language": "python",
   "name": "python3"
  },
  "language_info": {
   "codemirror_mode": {
    "name": "ipython",
    "version": 3
   },
   "file_extension": ".py",
   "mimetype": "text/x-python",
   "name": "python",
   "nbconvert_exporter": "python",
   "pygments_lexer": "ipython3",
   "version": "3.7.6"
  }
 },
 "nbformat": 4,
 "nbformat_minor": 4
}
