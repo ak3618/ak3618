{
 "cells": [
  {
   "cell_type": "code",
   "execution_count": 1,
   "metadata": {},
   "outputs": [],
   "source": [
    "#introduction to f strings"
   ]
  },
  {
   "cell_type": "code",
   "execution_count": 8,
   "metadata": {},
   "outputs": [
    {
     "ename": "NameError",
     "evalue": "name 'ashok' is not defined",
     "output_type": "error",
     "traceback": [
      "\u001b[1;31m---------------------------------------------------------------------------\u001b[0m",
      "\u001b[1;31mNameError\u001b[0m                                 Traceback (most recent call last)",
      "\u001b[1;32m<ipython-input-8-2e896323f60a>\u001b[0m in \u001b[0;36m<module>\u001b[1;34m\u001b[0m\n\u001b[1;32m----> 1\u001b[1;33m \u001b[0mfirst_name\u001b[0m\u001b[1;33m=\u001b[0m\u001b[0mashok\u001b[0m\u001b[1;33m\u001b[0m\u001b[1;33m\u001b[0m\u001b[0m\n\u001b[0m\u001b[0;32m      2\u001b[0m \u001b[0mmiddle_name\u001b[0m\u001b[1;33m=\u001b[0m\u001b[0mkumar\u001b[0m\u001b[1;33m\u001b[0m\u001b[1;33m\u001b[0m\u001b[0m\n\u001b[0;32m      3\u001b[0m \u001b[0mlast_name\u001b[0m\u001b[1;33m=\u001b[0m\u001b[0mmaurya\u001b[0m\u001b[1;33m\u001b[0m\u001b[1;33m\u001b[0m\u001b[0m\n\u001b[0;32m      4\u001b[0m \u001b[0mfull_name\u001b[0m\u001b[1;33m=\u001b[0m\u001b[1;34mf\"{first_name}{middle_name}{last_name}\"\u001b[0m\u001b[1;33m\u001b[0m\u001b[1;33m\u001b[0m\u001b[0m\n\u001b[0;32m      5\u001b[0m \u001b[0mprint\u001b[0m\u001b[1;33m(\u001b[0m\u001b[0mfull_name\u001b[0m\u001b[1;33m)\u001b[0m\u001b[1;33m\u001b[0m\u001b[1;33m\u001b[0m\u001b[0m\n",
      "\u001b[1;31mNameError\u001b[0m: name 'ashok' is not defined"
     ]
    }
   ],
   "source": [
    "first_name=ashok\n",
    "middle_name=kumar\n",
    "last_name=maurya\n",
    "full_name=f\"{first_name}{middle_name}{last_name}\"\n",
    "print(full_name)"
   ]
  },
  {
   "cell_type": "code",
   "execution_count": 15,
   "metadata": {},
   "outputs": [
    {
     "name": "stdout",
     "output_type": "stream",
     "text": [
      "Ashok Kumar Maurya\n"
     ]
    }
   ],
   "source": [
    "first_name=\"ashok\"\n",
    "middle_name=\"kumar\"\n",
    "last_name=\"maurya\"\n",
    "full_name=f\"{first_name.title()} {middle_name.title()} {last_name.title()}\"\n",
    "print(full_name)"
   ]
  },
  {
   "cell_type": "code",
   "execution_count": 16,
   "metadata": {},
   "outputs": [
    {
     "name": "stdout",
     "output_type": "stream",
     "text": [
      "ASHOK KUMAR MAURYA\n"
     ]
    }
   ],
   "source": [
    "first_name=\"ashok\"\n",
    "middle_name=\"kumar\"\n",
    "last_name=\"maurya\"\n",
    "full_name=f\"{first_name.upper()} {middle_name.upper()} {last_name.upper()}\"\n",
    "print(full_name)"
   ]
  },
  {
   "cell_type": "code",
   "execution_count": 17,
   "metadata": {},
   "outputs": [],
   "source": [
    "#adding white space in strings"
   ]
  },
  {
   "cell_type": "code",
   "execution_count": 18,
   "metadata": {},
   "outputs": [
    {
     "name": "stdout",
     "output_type": "stream",
     "text": [
      "python\n"
     ]
    }
   ],
   "source": [
    "print(\"python\")"
   ]
  },
  {
   "cell_type": "code",
   "execution_count": 19,
   "metadata": {},
   "outputs": [
    {
     "name": "stdout",
     "output_type": "stream",
     "text": [
      "pyhton hpermesh isami nastran\n"
     ]
    }
   ],
   "source": [
    "print(\"pyhton\",\"hpermesh\",\"isami\",\"nastran\")"
   ]
  },
  {
   "cell_type": "code",
   "execution_count": 20,
   "metadata": {},
   "outputs": [
    {
     "name": "stdout",
     "output_type": "stream",
     "text": [
      "pyhton\n",
      " hpermesh\n",
      " isami\n",
      " nastran\n",
      "\n"
     ]
    }
   ],
   "source": [
    "print(\"pyhton\\n\",\"hpermesh\\n\",\"isami\\n\",\"nastran\\n\")"
   ]
  },
  {
   "cell_type": "code",
   "execution_count": 21,
   "metadata": {},
   "outputs": [],
   "source": [
    "#adding tab delimeter"
   ]
  },
  {
   "cell_type": "code",
   "execution_count": 22,
   "metadata": {},
   "outputs": [
    {
     "name": "stdout",
     "output_type": "stream",
     "text": [
      "\\pyhton \\hpermesh \\isami \n",
      "astran\n"
     ]
    }
   ],
   "source": [
    "print(\"\\pyhton\",\"\\hpermesh\",\"\\isami\",\"\\nastran\")"
   ]
  },
  {
   "cell_type": "code",
   "execution_count": 23,
   "metadata": {},
   "outputs": [
    {
     "name": "stdout",
     "output_type": "stream",
     "text": [
      "pyhton\n",
      " hpermesh\n",
      " isami\n",
      " nastran\n",
      "\n"
     ]
    }
   ],
   "source": [
    "print(\"pyhton\\n\",\"hpermesh\\n\",\"isami\\n\",\"nastran\\n\")"
   ]
  },
  {
   "cell_type": "code",
   "execution_count": 24,
   "metadata": {},
   "outputs": [],
   "source": [
    "#how to remove sapce before hypermesh,isami,nastran or inline all print items"
   ]
  },
  {
   "cell_type": "code",
   "execution_count": 25,
   "metadata": {},
   "outputs": [
    {
     "name": "stdout",
     "output_type": "stream",
     "text": [
      "pyhton.lstrip()\n",
      " hpermesh.lstrip()\n",
      " isami.lstrip()\n",
      " nastran.lstrip()\n",
      "\n"
     ]
    }
   ],
   "source": [
    "print(\"pyhton.lstrip()\\n\",\"hpermesh.lstrip()\\n\",\"isami.lstrip()\\n\",\"nastran.lstrip()\\n\")"
   ]
  },
  {
   "cell_type": "code",
   "execution_count": null,
   "metadata": {},
   "outputs": [],
   "source": []
  }
 ],
 "metadata": {
  "kernelspec": {
   "display_name": "Python 3",
   "language": "python",
   "name": "python3"
  },
  "language_info": {
   "codemirror_mode": {
    "name": "ipython",
    "version": 3
   },
   "file_extension": ".py",
   "mimetype": "text/x-python",
   "name": "python",
   "nbconvert_exporter": "python",
   "pygments_lexer": "ipython3",
   "version": "3.7.6"
  }
 },
 "nbformat": 4,
 "nbformat_minor": 4
}
